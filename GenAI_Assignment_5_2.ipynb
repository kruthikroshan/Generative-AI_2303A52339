{
  "nbformat": 4,
  "nbformat_minor": 0,
  "metadata": {
    "colab": {
      "provenance": [],
      "authorship_tag": "ABX9TyORuNDrVOsJ3naTvlNrx8bZ",
      "include_colab_link": true
    },
    "kernelspec": {
      "name": "python3",
      "display_name": "Python 3"
    },
    "language_info": {
      "name": "python"
    }
  },
  "cells": [
    {
      "cell_type": "markdown",
      "metadata": {
        "id": "view-in-github",
        "colab_type": "text"
      },
      "source": [
        "<a href=\"https://colab.research.google.com/github/kruthikroshan/Generative-AI_2303A52339/blob/main/GenAI_Assignment_5_2.ipynb\" target=\"_parent\"><img src=\"https://colab.research.google.com/assets/colab-badge.svg\" alt=\"Open In Colab\"/></a>"
      ]
    },
    {
      "cell_type": "markdown",
      "source": [
        "NAME: KRUTHIK ROSHAN\n",
        "\n",
        "BATCH >> 41\n",
        "\n",
        "2303A52339"
      ],
      "metadata": {
        "id": "HWSWMOs087nB"
      }
    },
    {
      "cell_type": "code",
      "execution_count": 1,
      "metadata": {
        "colab": {
          "base_uri": "https://localhost:8080/"
        },
        "id": "cFUuibmY8SnX",
        "outputId": "8c70c532-35dc-46d6-c214-06df36f8b470"
      },
      "outputs": [
        {
          "output_type": "stream",
          "name": "stdout",
          "text": [
            "Epoch 0, MSE: 2.427659\n",
            "Epoch 1000, MSE: 0.000000\n",
            "Epoch 2000, MSE: 0.000000\n",
            "Epoch 3000, MSE: 0.000000\n",
            "Epoch 4000, MSE: 0.000000\n",
            "Epoch 5000, MSE: 0.000000\n",
            "Epoch 6000, MSE: 0.000000\n",
            "Epoch 7000, MSE: 0.000000\n",
            "Epoch 8000, MSE: 0.000000\n",
            "Epoch 9000, MSE: 0.000000\n",
            "\n",
            "Test MSE: 6.897465191091228e-08\n",
            "Enter values for x1 and x2: 5 9\n",
            "Predicted Output: 0.48558991767930854\n"
          ]
        }
      ],
      "source": [
        "import numpy as np\n",
        "\n",
        "# Sigmoid activation function and its derivative\n",
        "def sigmoid(x):\n",
        "    return 1 / (1 + np.exp(-x))\n",
        "\n",
        "def sigmoid_derivative(x):\n",
        "    return x * (1 - x)\n",
        "\n",
        "# Mean Squared Error (MSE) function\n",
        "def mse(y_true, y_pred):\n",
        "    return np.mean((y_true - y_pred) ** 2)\n",
        "\n",
        "# Training data\n",
        "X_train = np.array([[0.2, 0.1], [0.3, 0.2], [0.4, 0.3], [0.7, 0.6], [0.8, 0.7], [0.9, 0.8]])\n",
        "y_train = np.array([[0.3441], [0.3500], [0.3558], [0.3729], [0.3785], [0.3841]])\n",
        "\n",
        "# Test data\n",
        "X_test = np.array([[0.5, 0.4], [0.6, 0.5]])\n",
        "y_test = np.array([[0.3615], [0.3672]])\n",
        "\n",
        "# Neural Network Architecture\n",
        "input_neurons = 2\n",
        "hidden_neurons = 3\n",
        "output_neurons = 1\n",
        "learning_rate = 0.1\n",
        "epochs = 10000\n",
        "\n",
        "# Initialize weights and biases\n",
        "np.random.seed(42)\n",
        "weights_input_hidden = np.random.rand(input_neurons, hidden_neurons)\n",
        "weights_hidden_output = np.random.rand(hidden_neurons, output_neurons)\n",
        "bias_hidden = np.random.rand(hidden_neurons)\n",
        "bias_output = np.random.rand(output_neurons)\n",
        "\n",
        "# Training using Backpropagation\n",
        "for epoch in range(epochs):\n",
        "    # Forward pass\n",
        "    hidden_layer_input = np.dot(X_train, weights_input_hidden) + bias_hidden\n",
        "    hidden_layer_output = sigmoid(hidden_layer_input)\n",
        "\n",
        "    final_input = np.dot(hidden_layer_output, weights_hidden_output) + bias_output\n",
        "    final_output = final_input  # Linear activation in output layer\n",
        "\n",
        "    # Compute loss\n",
        "    loss = y_train - final_output\n",
        "\n",
        "    # Backpropagation\n",
        "    d_output = loss  # Derivative of MSE w.r.t output\n",
        "    d_weights_hidden_output = np.dot(hidden_layer_output.T, d_output)\n",
        "    d_bias_output = np.sum(d_output, axis=0)\n",
        "\n",
        "    d_hidden_layer = np.dot(d_output, weights_hidden_output.T) * sigmoid_derivative(hidden_layer_output)\n",
        "    d_weights_input_hidden = np.dot(X_train.T, d_hidden_layer)\n",
        "    d_bias_hidden = np.sum(d_hidden_layer, axis=0)\n",
        "\n",
        "    # Update weights and biases\n",
        "    weights_hidden_output += learning_rate * d_weights_hidden_output\n",
        "    bias_output += learning_rate * d_bias_output\n",
        "    weights_input_hidden += learning_rate * d_weights_input_hidden\n",
        "    bias_hidden += learning_rate * d_bias_hidden\n",
        "\n",
        "    # Print loss every 1000 epochs\n",
        "    if epoch % 1000 == 0:\n",
        "        print(f\"Epoch {epoch}, MSE: {mse(y_train, final_output):.6f}\")\n",
        "\n",
        "# Evaluate on test data\n",
        "hidden_layer_input_test = np.dot(X_test, weights_input_hidden) + bias_hidden\n",
        "hidden_layer_output_test = sigmoid(hidden_layer_input_test)\n",
        "final_input_test = np.dot(hidden_layer_output_test, weights_hidden_output) + bias_output\n",
        "y_pred_test = final_input_test\n",
        "\n",
        "print(\"\\nTest MSE:\", mse(y_test, y_pred_test))\n",
        "\n",
        "# User input prediction\n",
        "x1, x2 = map(float, input(\"Enter values for x1 and x2: \").split())\n",
        "user_input = np.array([[x1, x2]])\n",
        "hidden_layer_input_user = np.dot(user_input, weights_input_hidden) + bias_hidden\n",
        "hidden_layer_output_user = sigmoid(hidden_layer_input_user)\n",
        "final_input_user = np.dot(hidden_layer_output_user, weights_hidden_output) + bias_output\n",
        "print(\"Predicted Output:\", final_input_user[0, 0])"
      ]
    }
  ]
}