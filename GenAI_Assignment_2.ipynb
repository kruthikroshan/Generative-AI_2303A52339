{
  "nbformat": 4,
  "nbformat_minor": 0,
  "metadata": {
    "colab": {
      "provenance": [],
      "include_colab_link": true
    },
    "kernelspec": {
      "name": "python3",
      "display_name": "Python 3"
    },
    "language_info": {
      "name": "python"
    }
  },
  "cells": [
    {
      "cell_type": "markdown",
      "metadata": {
        "id": "view-in-github",
        "colab_type": "text"
      },
      "source": [
        "<a href=\"https://colab.research.google.com/github/kruthikroshan/Generative-AI_2303A52339/blob/main/GenAI_Assignment_2.ipynb\" target=\"_parent\"><img src=\"https://colab.research.google.com/assets/colab-badge.svg\" alt=\"Open In Colab\"/></a>"
      ]
    },
    {
      "cell_type": "markdown",
      "source": [
        "NAME:G.KRUTHIK ROSHAN\n",
        "\n",
        "HALL TICKET:2303A52339\n",
        "\n",
        "BATCH 41"
      ],
      "metadata": {
        "id": "j9wzlauUzfKS"
      }
    },
    {
      "cell_type": "markdown",
      "source": [
        "# **Question 1**"
      ],
      "metadata": {
        "id": "SGc5GhEHA_UN"
      }
    },
    {
      "cell_type": "code",
      "execution_count": null,
      "metadata": {
        "colab": {
          "base_uri": "https://localhost:8080/"
        },
        "id": "SUpuwSBE5jmq",
        "outputId": "7634263d-8583-423d-9521-5a225d81aa42"
      },
      "outputs": [
        {
          "output_type": "stream",
          "name": "stdout",
          "text": [
            "Optimal number of A to produce: 2.00\n",
            "Optimal number of B to produce: 3.00\n",
            "Maximum Profit: 27.00\n"
          ]
        }
      ],
      "source": [
        "from scipy.optimize import linprog\n",
        "\n",
        "c = [-6, -5]\n",
        "\n",
        "A_ub = [\n",
        "    [1, 1],\n",
        "    [3, 2]\n",
        "]\n",
        "b_ub = [5, 12]\n",
        "\n",
        "x_bounds = (0, None)\n",
        "y_bounds = (0, None)\n",
        "\n",
        "result = linprog(c, A_ub=A_ub, b_ub=b_ub, bounds=[x_bounds, y_bounds], method=\"highs\")\n",
        "\n",
        "if result.success:\n",
        "    print(f\"Optimal number of A to produce: {result.x[0]:.2f}\")\n",
        "    print(f\"Optimal number of B to produce: {result.x[1]:.2f}\")\n",
        "    print(f\"Maximum Profit: {-result.fun:.2f}\")\n",
        "else:\n",
        "    print(\"Optimization failed:\", result.message)\n"
      ]
    },
    {
      "cell_type": "markdown",
      "source": [
        "# **Question 2**"
      ],
      "metadata": {
        "id": "ytvU6_MNBFY5"
      }
    },
    {
      "cell_type": "code",
      "source": [
        "from scipy.optimize import linprog\n",
        "\n",
        "c = [-50, -120]\n",
        "\n",
        "A_ub = [\n",
        "    [1, 1],\n",
        "    [7000, 2000],\n",
        "    [10, 30]\n",
        "]\n",
        "b_ub = [110, 700000, 1200]\n",
        "\n",
        "x_bounds = (0, None)\n",
        "y_bounds = (0, None)\n",
        "\n",
        "result = linprog(c, A_ub=A_ub, b_ub=b_ub, bounds=[x_bounds, y_bounds], method=\"highs\")\n",
        "\n",
        "if result.success:\n",
        "    print(f\"Optimal hectares of Wheat (x1): {result.x[0]:.2f}\")\n",
        "    print(f\"Optimal hectares of Barley (x2): {result.x[1]:.2f}\")\n",
        "    print(f\"Maximum Profit: {-result.fun:.2f}\")\n",
        "else:\n",
        "    print(\"Optimization failed:\", result.message)\n"
      ],
      "metadata": {
        "colab": {
          "base_uri": "https://localhost:8080/"
        },
        "id": "XB8-MxwGBFCm",
        "outputId": "29ced424-04a3-40e7-82be-0ce99ee4f340"
      },
      "execution_count": null,
      "outputs": [
        {
          "output_type": "stream",
          "name": "stdout",
          "text": [
            "Optimal hectares of Wheat (x1): 97.89\n",
            "Optimal hectares of Barley (x2): 7.37\n",
            "Maximum Profit: 5778.95\n"
          ]
        }
      ]
    }
  ]
}