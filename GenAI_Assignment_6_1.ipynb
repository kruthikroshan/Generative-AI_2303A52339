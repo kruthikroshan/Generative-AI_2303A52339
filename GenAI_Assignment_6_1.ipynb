{
  "nbformat": 4,
  "nbformat_minor": 0,
  "metadata": {
    "colab": {
      "provenance": [],
      "include_colab_link": true
    },
    "kernelspec": {
      "name": "python3",
      "display_name": "Python 3"
    },
    "language_info": {
      "name": "python"
    }
  },
  "cells": [
    {
      "cell_type": "markdown",
      "metadata": {
        "id": "view-in-github",
        "colab_type": "text"
      },
      "source": [
        "<a href=\"https://colab.research.google.com/github/kruthikroshan/Generative-AI_2303A52339/blob/main/GenAI_Assignment_6_1.ipynb\" target=\"_parent\"><img src=\"https://colab.research.google.com/assets/colab-badge.svg\" alt=\"Open In Colab\"/></a>"
      ]
    },
    {
      "cell_type": "markdown",
      "source": [
        "NAME:KRUTHIK ROSHAN\n",
        "\n",
        "BATCH >> 41\n",
        "\n",
        "2303A52339"
      ],
      "metadata": {
        "id": "WYyDOcvf7G7O"
      }
    },
    {
      "cell_type": "markdown",
      "source": [
        "# **Question-1**"
      ],
      "metadata": {
        "id": "b87CA7pDLKi2"
      }
    },
    {
      "cell_type": "code",
      "execution_count": null,
      "metadata": {
        "colab": {
          "base_uri": "https://localhost:8080/"
        },
        "id": "CNK6GNcxJG8O",
        "outputId": "40ccbc68-62b8-414d-d8d3-62059e2439e3"
      },
      "outputs": [
        {
          "output_type": "stream",
          "name": "stdout",
          "text": [
            "Epoch 1/100\n"
          ]
        },
        {
          "output_type": "stream",
          "name": "stderr",
          "text": [
            "/usr/local/lib/python3.11/dist-packages/keras/src/layers/core/dense.py:87: UserWarning: Do not pass an `input_shape`/`input_dim` argument to a layer. When using Sequential models, prefer using an `Input(shape)` object as the first layer in the model instead.\n",
            "  super().__init__(activity_regularizer=activity_regularizer, **kwargs)\n"
          ]
        },
        {
          "output_type": "stream",
          "name": "stdout",
          "text": [
            "\u001b[1m22/22\u001b[0m \u001b[32m━━━━━━━━━━━━━━━━━━━━\u001b[0m\u001b[37m\u001b[0m \u001b[1m1s\u001b[0m 17ms/step - loss: 10878052204544.0000 - mean_squared_error: 10878052204544.0000 - val_loss: 3421422223360.0000 - val_mean_squared_error: 3421422223360.0000\n",
            "Epoch 2/100\n",
            "\u001b[1m22/22\u001b[0m \u001b[32m━━━━━━━━━━━━━━━━━━━━\u001b[0m\u001b[37m\u001b[0m \u001b[1m0s\u001b[0m 5ms/step - loss: 2768948166656.0000 - mean_squared_error: 2768948166656.0000 - val_loss: 3409443815424.0000 - val_mean_squared_error: 3409443815424.0000\n",
            "Epoch 3/100\n",
            "\u001b[1m22/22\u001b[0m \u001b[32m━━━━━━━━━━━━━━━━━━━━\u001b[0m\u001b[37m\u001b[0m \u001b[1m0s\u001b[0m 5ms/step - loss: 3421987930112.0000 - mean_squared_error: 3421987930112.0000 - val_loss: 3402619944960.0000 - val_mean_squared_error: 3402619944960.0000\n",
            "Epoch 4/100\n",
            "\u001b[1m22/22\u001b[0m \u001b[32m━━━━━━━━━━━━━━━━━━━━\u001b[0m\u001b[37m\u001b[0m \u001b[1m0s\u001b[0m 5ms/step - loss: 2650697891840.0000 - mean_squared_error: 2650697891840.0000 - val_loss: 3460701880320.0000 - val_mean_squared_error: 3460701880320.0000\n",
            "Epoch 5/100\n",
            "\u001b[1m22/22\u001b[0m \u001b[32m━━━━━━━━━━━━━━━━━━━━\u001b[0m\u001b[37m\u001b[0m \u001b[1m0s\u001b[0m 5ms/step - loss: 2588552724480.0000 - mean_squared_error: 2588552724480.0000 - val_loss: 3407461744640.0000 - val_mean_squared_error: 3407461744640.0000\n",
            "Epoch 6/100\n",
            "\u001b[1m22/22\u001b[0m \u001b[32m━━━━━━━━━━━━━━━━━━━━\u001b[0m\u001b[37m\u001b[0m \u001b[1m0s\u001b[0m 6ms/step - loss: 2776716279808.0000 - mean_squared_error: 2776716279808.0000 - val_loss: 3434251026432.0000 - val_mean_squared_error: 3434251026432.0000\n",
            "Epoch 7/100\n",
            "\u001b[1m22/22\u001b[0m \u001b[32m━━━━━━━━━━━━━━━━━━━━\u001b[0m\u001b[37m\u001b[0m \u001b[1m0s\u001b[0m 5ms/step - loss: 3257548406784.0000 - mean_squared_error: 3257548406784.0000 - val_loss: 3433552936960.0000 - val_mean_squared_error: 3433552936960.0000\n",
            "Epoch 8/100\n",
            "\u001b[1m22/22\u001b[0m \u001b[32m━━━━━━━━━━━━━━━━━━━━\u001b[0m\u001b[37m\u001b[0m \u001b[1m0s\u001b[0m 7ms/step - loss: 3719892303872.0000 - mean_squared_error: 3719892303872.0000 - val_loss: 3620094607360.0000 - val_mean_squared_error: 3620094607360.0000\n",
            "Epoch 9/100\n",
            "\u001b[1m22/22\u001b[0m \u001b[32m━━━━━━━━━━━━━━━━━━━━\u001b[0m\u001b[37m\u001b[0m \u001b[1m0s\u001b[0m 5ms/step - loss: 3398114213888.0000 - mean_squared_error: 3398114213888.0000 - val_loss: 3522316992512.0000 - val_mean_squared_error: 3522316992512.0000\n",
            "Epoch 10/100\n",
            "\u001b[1m22/22\u001b[0m \u001b[32m━━━━━━━━━━━━━━━━━━━━\u001b[0m\u001b[37m\u001b[0m \u001b[1m0s\u001b[0m 5ms/step - loss: 2978260189184.0000 - mean_squared_error: 2978260189184.0000 - val_loss: 3402997432320.0000 - val_mean_squared_error: 3402997432320.0000\n",
            "Epoch 11/100\n",
            "\u001b[1m22/22\u001b[0m \u001b[32m━━━━━━━━━━━━━━━━━━━━\u001b[0m\u001b[37m\u001b[0m \u001b[1m0s\u001b[0m 5ms/step - loss: 2981592825856.0000 - mean_squared_error: 2981592825856.0000 - val_loss: 3405388709888.0000 - val_mean_squared_error: 3405388709888.0000\n",
            "Epoch 12/100\n",
            "\u001b[1m22/22\u001b[0m \u001b[32m━━━━━━━━━━━━━━━━━━━━\u001b[0m\u001b[37m\u001b[0m \u001b[1m0s\u001b[0m 7ms/step - loss: 3115079172096.0000 - mean_squared_error: 3115079172096.0000 - val_loss: 3401220620288.0000 - val_mean_squared_error: 3401220620288.0000\n",
            "Epoch 13/100\n",
            "\u001b[1m22/22\u001b[0m \u001b[32m━━━━━━━━━━━━━━━━━━━━\u001b[0m\u001b[37m\u001b[0m \u001b[1m0s\u001b[0m 5ms/step - loss: 3712193921024.0000 - mean_squared_error: 3712193921024.0000 - val_loss: 3434861559808.0000 - val_mean_squared_error: 3434861559808.0000\n",
            "Epoch 14/100\n",
            "\u001b[1m22/22\u001b[0m \u001b[32m━━━━━━━━━━━━━━━━━━━━\u001b[0m\u001b[37m\u001b[0m \u001b[1m0s\u001b[0m 5ms/step - loss: 2993646206976.0000 - mean_squared_error: 2993646206976.0000 - val_loss: 3463878541312.0000 - val_mean_squared_error: 3463878541312.0000\n",
            "Epoch 15/100\n",
            "\u001b[1m22/22\u001b[0m \u001b[32m━━━━━━━━━━━━━━━━━━━━\u001b[0m\u001b[37m\u001b[0m \u001b[1m0s\u001b[0m 6ms/step - loss: 2465257226240.0000 - mean_squared_error: 2465257226240.0000 - val_loss: 3409578295296.0000 - val_mean_squared_error: 3409578295296.0000\n",
            "Epoch 16/100\n",
            "\u001b[1m22/22\u001b[0m \u001b[32m━━━━━━━━━━━━━━━━━━━━\u001b[0m\u001b[37m\u001b[0m \u001b[1m0s\u001b[0m 5ms/step - loss: 2887352844288.0000 - mean_squared_error: 2887352844288.0000 - val_loss: 3453316497408.0000 - val_mean_squared_error: 3453316497408.0000\n",
            "Epoch 17/100\n",
            "\u001b[1m22/22\u001b[0m \u001b[32m━━━━━━━━━━━━━━━━━━━━\u001b[0m\u001b[37m\u001b[0m \u001b[1m0s\u001b[0m 5ms/step - loss: 3021898252288.0000 - mean_squared_error: 3021898252288.0000 - val_loss: 3424809648128.0000 - val_mean_squared_error: 3424809648128.0000\n",
            "Epoch 18/100\n",
            "\u001b[1m22/22\u001b[0m \u001b[32m━━━━━━━━━━━━━━━━━━━━\u001b[0m\u001b[37m\u001b[0m \u001b[1m0s\u001b[0m 5ms/step - loss: 3681392263168.0000 - mean_squared_error: 3681392263168.0000 - val_loss: 3464822521856.0000 - val_mean_squared_error: 3464822521856.0000\n",
            "Epoch 19/100\n",
            "\u001b[1m22/22\u001b[0m \u001b[32m━━━━━━━━━━━━━━━━━━━━\u001b[0m\u001b[37m\u001b[0m \u001b[1m0s\u001b[0m 7ms/step - loss: 3318079029248.0000 - mean_squared_error: 3318079029248.0000 - val_loss: 3409276829696.0000 - val_mean_squared_error: 3409276829696.0000\n",
            "Epoch 20/100\n",
            "\u001b[1m22/22\u001b[0m \u001b[32m━━━━━━━━━━━━━━━━━━━━\u001b[0m\u001b[37m\u001b[0m \u001b[1m0s\u001b[0m 5ms/step - loss: 3049223094272.0000 - mean_squared_error: 3049223094272.0000 - val_loss: 3408614653952.0000 - val_mean_squared_error: 3408614653952.0000\n",
            "Epoch 21/100\n",
            "\u001b[1m22/22\u001b[0m \u001b[32m━━━━━━━━━━━━━━━━━━━━\u001b[0m\u001b[37m\u001b[0m \u001b[1m0s\u001b[0m 6ms/step - loss: 2870289104896.0000 - mean_squared_error: 2870289104896.0000 - val_loss: 3430018973696.0000 - val_mean_squared_error: 3430018973696.0000\n",
            "Epoch 22/100\n",
            "\u001b[1m22/22\u001b[0m \u001b[32m━━━━━━━━━━━━━━━━━━━━\u001b[0m\u001b[37m\u001b[0m \u001b[1m0s\u001b[0m 5ms/step - loss: 2681164005376.0000 - mean_squared_error: 2681164005376.0000 - val_loss: 3455272091648.0000 - val_mean_squared_error: 3455272091648.0000\n",
            "Epoch 23/100\n",
            "\u001b[1m22/22\u001b[0m \u001b[32m━━━━━━━━━━━━━━━━━━━━\u001b[0m\u001b[37m\u001b[0m \u001b[1m0s\u001b[0m 7ms/step - loss: 3142605078528.0000 - mean_squared_error: 3142605078528.0000 - val_loss: 3412575387648.0000 - val_mean_squared_error: 3412575387648.0000\n",
            "Epoch 24/100\n",
            "\u001b[1m22/22\u001b[0m \u001b[32m━━━━━━━━━━━━━━━━━━━━\u001b[0m\u001b[37m\u001b[0m \u001b[1m0s\u001b[0m 5ms/step - loss: 2727173947392.0000 - mean_squared_error: 2727173947392.0000 - val_loss: 3784481964032.0000 - val_mean_squared_error: 3784481964032.0000\n",
            "Epoch 25/100\n",
            "\u001b[1m22/22\u001b[0m \u001b[32m━━━━━━━━━━━━━━━━━━━━\u001b[0m\u001b[37m\u001b[0m \u001b[1m0s\u001b[0m 6ms/step - loss: 3056835231744.0000 - mean_squared_error: 3056835231744.0000 - val_loss: 3457987117056.0000 - val_mean_squared_error: 3457987117056.0000\n",
            "Epoch 26/100\n",
            "\u001b[1m22/22\u001b[0m \u001b[32m━━━━━━━━━━━━━━━━━━━━\u001b[0m\u001b[37m\u001b[0m \u001b[1m0s\u001b[0m 5ms/step - loss: 3063945625600.0000 - mean_squared_error: 3063945625600.0000 - val_loss: 3440085041152.0000 - val_mean_squared_error: 3440085041152.0000\n",
            "Epoch 27/100\n",
            "\u001b[1m22/22\u001b[0m \u001b[32m━━━━━━━━━━━━━━━━━━━━\u001b[0m\u001b[37m\u001b[0m \u001b[1m0s\u001b[0m 5ms/step - loss: 3347851771904.0000 - mean_squared_error: 3347851771904.0000 - val_loss: 3401173696512.0000 - val_mean_squared_error: 3401173696512.0000\n",
            "Epoch 28/100\n",
            "\u001b[1m22/22\u001b[0m \u001b[32m━━━━━━━━━━━━━━━━━━━━\u001b[0m\u001b[37m\u001b[0m \u001b[1m0s\u001b[0m 5ms/step - loss: 2940899164160.0000 - mean_squared_error: 2940899164160.0000 - val_loss: 3438940782592.0000 - val_mean_squared_error: 3438940782592.0000\n",
            "Epoch 29/100\n",
            "\u001b[1m22/22\u001b[0m \u001b[32m━━━━━━━━━━━━━━━━━━━━\u001b[0m\u001b[37m\u001b[0m \u001b[1m0s\u001b[0m 7ms/step - loss: 3207012286464.0000 - mean_squared_error: 3207012286464.0000 - val_loss: 3401463889920.0000 - val_mean_squared_error: 3401463889920.0000\n",
            "Epoch 30/100\n",
            "\u001b[1m22/22\u001b[0m \u001b[32m━━━━━━━━━━━━━━━━━━━━\u001b[0m\u001b[37m\u001b[0m \u001b[1m0s\u001b[0m 5ms/step - loss: 2757685149696.0000 - mean_squared_error: 2757685149696.0000 - val_loss: 3460216651776.0000 - val_mean_squared_error: 3460216651776.0000\n",
            "Epoch 31/100\n",
            "\u001b[1m22/22\u001b[0m \u001b[32m━━━━━━━━━━━━━━━━━━━━\u001b[0m\u001b[37m\u001b[0m \u001b[1m0s\u001b[0m 6ms/step - loss: 3224825495552.0000 - mean_squared_error: 3224825495552.0000 - val_loss: 3420143747072.0000 - val_mean_squared_error: 3420143747072.0000\n",
            "Epoch 32/100\n",
            "\u001b[1m22/22\u001b[0m \u001b[32m━━━━━━━━━━━━━━━━━━━━\u001b[0m\u001b[37m\u001b[0m \u001b[1m0s\u001b[0m 5ms/step - loss: 3131783249920.0000 - mean_squared_error: 3131783249920.0000 - val_loss: 3416421826560.0000 - val_mean_squared_error: 3416421826560.0000\n",
            "Epoch 33/100\n",
            "\u001b[1m22/22\u001b[0m \u001b[32m━━━━━━━━━━━━━━━━━━━━\u001b[0m\u001b[37m\u001b[0m \u001b[1m0s\u001b[0m 5ms/step - loss: 3351585751040.0000 - mean_squared_error: 3351585751040.0000 - val_loss: 3517877583872.0000 - val_mean_squared_error: 3517877583872.0000\n",
            "Epoch 34/100\n",
            "\u001b[1m22/22\u001b[0m \u001b[32m━━━━━━━━━━━━━━━━━━━━\u001b[0m\u001b[37m\u001b[0m \u001b[1m0s\u001b[0m 5ms/step - loss: 3060010319872.0000 - mean_squared_error: 3060010319872.0000 - val_loss: 3401233203200.0000 - val_mean_squared_error: 3401233203200.0000\n",
            "Epoch 35/100\n",
            "\u001b[1m22/22\u001b[0m \u001b[32m━━━━━━━━━━━━━━━━━━━━\u001b[0m\u001b[37m\u001b[0m \u001b[1m0s\u001b[0m 5ms/step - loss: 2698161946624.0000 - mean_squared_error: 2698161946624.0000 - val_loss: 3522269020160.0000 - val_mean_squared_error: 3522269020160.0000\n",
            "Epoch 36/100\n",
            "\u001b[1m22/22\u001b[0m \u001b[32m━━━━━━━━━━━━━━━━━━━━\u001b[0m\u001b[37m\u001b[0m \u001b[1m0s\u001b[0m 5ms/step - loss: 3161806340096.0000 - mean_squared_error: 3161806340096.0000 - val_loss: 3541802680320.0000 - val_mean_squared_error: 3541802680320.0000\n",
            "Epoch 37/100\n",
            "\u001b[1m22/22\u001b[0m \u001b[32m━━━━━━━━━━━━━━━━━━━━\u001b[0m\u001b[37m\u001b[0m \u001b[1m0s\u001b[0m 7ms/step - loss: 2977323810816.0000 - mean_squared_error: 2977323810816.0000 - val_loss: 3439681601536.0000 - val_mean_squared_error: 3439681601536.0000\n",
            "Epoch 38/100\n",
            "\u001b[1m22/22\u001b[0m \u001b[32m━━━━━━━━━━━━━━━━━━━━\u001b[0m\u001b[37m\u001b[0m \u001b[1m0s\u001b[0m 6ms/step - loss: 3103432900608.0000 - mean_squared_error: 3103432900608.0000 - val_loss: 3428121313280.0000 - val_mean_squared_error: 3428121313280.0000\n",
            "Epoch 39/100\n",
            "\u001b[1m22/22\u001b[0m \u001b[32m━━━━━━━━━━━━━━━━━━━━\u001b[0m\u001b[37m\u001b[0m \u001b[1m0s\u001b[0m 5ms/step - loss: 3361512882176.0000 - mean_squared_error: 3361512882176.0000 - val_loss: 3416013144064.0000 - val_mean_squared_error: 3416013144064.0000\n",
            "Epoch 40/100\n",
            "\u001b[1m22/22\u001b[0m \u001b[32m━━━━━━━━━━━━━━━━━━━━\u001b[0m\u001b[37m\u001b[0m \u001b[1m0s\u001b[0m 5ms/step - loss: 3236397318144.0000 - mean_squared_error: 3236397318144.0000 - val_loss: 3559613267968.0000 - val_mean_squared_error: 3559613267968.0000\n",
            "Epoch 41/100\n",
            "\u001b[1m22/22\u001b[0m \u001b[32m━━━━━━━━━━━━━━━━━━━━\u001b[0m\u001b[37m\u001b[0m \u001b[1m0s\u001b[0m 5ms/step - loss: 3216842424320.0000 - mean_squared_error: 3216842424320.0000 - val_loss: 3508360183808.0000 - val_mean_squared_error: 3508360183808.0000\n",
            "Epoch 42/100\n",
            "\u001b[1m22/22\u001b[0m \u001b[32m━━━━━━━━━━━━━━━━━━━━\u001b[0m\u001b[37m\u001b[0m \u001b[1m0s\u001b[0m 5ms/step - loss: 3201116667904.0000 - mean_squared_error: 3201116667904.0000 - val_loss: 3571544752128.0000 - val_mean_squared_error: 3571544752128.0000\n",
            "Epoch 43/100\n",
            "\u001b[1m22/22\u001b[0m \u001b[32m━━━━━━━━━━━━━━━━━━━━\u001b[0m\u001b[37m\u001b[0m \u001b[1m0s\u001b[0m 9ms/step - loss: 2993939021824.0000 - mean_squared_error: 2993939021824.0000 - val_loss: 3414213525504.0000 - val_mean_squared_error: 3414213525504.0000\n",
            "Epoch 44/100\n",
            "\u001b[1m22/22\u001b[0m \u001b[32m━━━━━━━━━━━━━━━━━━━━\u001b[0m\u001b[37m\u001b[0m \u001b[1m0s\u001b[0m 9ms/step - loss: 2588484042752.0000 - mean_squared_error: 2588484042752.0000 - val_loss: 3402949722112.0000 - val_mean_squared_error: 3402949722112.0000\n",
            "Epoch 45/100\n",
            "\u001b[1m22/22\u001b[0m \u001b[32m━━━━━━━━━━━━━━━━━━━━\u001b[0m\u001b[37m\u001b[0m \u001b[1m0s\u001b[0m 8ms/step - loss: 2905557434368.0000 - mean_squared_error: 2905557434368.0000 - val_loss: 3473896112128.0000 - val_mean_squared_error: 3473896112128.0000\n",
            "Epoch 46/100\n",
            "\u001b[1m22/22\u001b[0m \u001b[32m━━━━━━━━━━━━━━━━━━━━\u001b[0m\u001b[37m\u001b[0m \u001b[1m0s\u001b[0m 8ms/step - loss: 3075460825088.0000 - mean_squared_error: 3075460825088.0000 - val_loss: 3405737885696.0000 - val_mean_squared_error: 3405737885696.0000\n",
            "Epoch 47/100\n",
            "\u001b[1m22/22\u001b[0m \u001b[32m━━━━━━━━━━━━━━━━━━━━\u001b[0m\u001b[37m\u001b[0m \u001b[1m0s\u001b[0m 10ms/step - loss: 2955044716544.0000 - mean_squared_error: 2955044716544.0000 - val_loss: 3420622422016.0000 - val_mean_squared_error: 3420622422016.0000\n",
            "Epoch 48/100\n",
            "\u001b[1m22/22\u001b[0m \u001b[32m━━━━━━━━━━━━━━━━━━━━\u001b[0m\u001b[37m\u001b[0m \u001b[1m0s\u001b[0m 9ms/step - loss: 2958112063488.0000 - mean_squared_error: 2958112063488.0000 - val_loss: 3411438731264.0000 - val_mean_squared_error: 3411438731264.0000\n",
            "Epoch 49/100\n",
            "\u001b[1m22/22\u001b[0m \u001b[32m━━━━━━━━━━━━━━━━━━━━\u001b[0m\u001b[37m\u001b[0m \u001b[1m0s\u001b[0m 9ms/step - loss: 2822730153984.0000 - mean_squared_error: 2822730153984.0000 - val_loss: 3406119829504.0000 - val_mean_squared_error: 3406119829504.0000\n",
            "Epoch 50/100\n",
            "\u001b[1m22/22\u001b[0m \u001b[32m━━━━━━━━━━━━━━━━━━━━\u001b[0m\u001b[37m\u001b[0m \u001b[1m0s\u001b[0m 11ms/step - loss: 2986684710912.0000 - mean_squared_error: 2986684710912.0000 - val_loss: 3540157202432.0000 - val_mean_squared_error: 3540157202432.0000\n",
            "Epoch 51/100\n",
            "\u001b[1m22/22\u001b[0m \u001b[32m━━━━━━━━━━━━━━━━━━━━\u001b[0m\u001b[37m\u001b[0m \u001b[1m0s\u001b[0m 10ms/step - loss: 3164256600064.0000 - mean_squared_error: 3164256600064.0000 - val_loss: 3401281699840.0000 - val_mean_squared_error: 3401281699840.0000\n",
            "Epoch 52/100\n",
            "\u001b[1m22/22\u001b[0m \u001b[32m━━━━━━━━━━━━━━━━━━━━\u001b[0m\u001b[37m\u001b[0m \u001b[1m0s\u001b[0m 5ms/step - loss: 3046872449024.0000 - mean_squared_error: 3046872449024.0000 - val_loss: 3562881155072.0000 - val_mean_squared_error: 3562881155072.0000\n",
            "Epoch 53/100\n",
            "\u001b[1m22/22\u001b[0m \u001b[32m━━━━━━━━━━━━━━━━━━━━\u001b[0m\u001b[37m\u001b[0m \u001b[1m0s\u001b[0m 5ms/step - loss: 3149943013376.0000 - mean_squared_error: 3149943013376.0000 - val_loss: 3401448947712.0000 - val_mean_squared_error: 3401448947712.0000\n",
            "Epoch 54/100\n",
            "\u001b[1m22/22\u001b[0m \u001b[32m━━━━━━━━━━━━━━━━━━━━\u001b[0m\u001b[37m\u001b[0m \u001b[1m0s\u001b[0m 5ms/step - loss: 3633468669952.0000 - mean_squared_error: 3633468669952.0000 - val_loss: 3415916675072.0000 - val_mean_squared_error: 3415916675072.0000\n",
            "Epoch 55/100\n",
            "\u001b[1m22/22\u001b[0m \u001b[32m━━━━━━━━━━━━━━━━━━━━\u001b[0m\u001b[37m\u001b[0m \u001b[1m0s\u001b[0m 5ms/step - loss: 3642675953664.0000 - mean_squared_error: 3642675953664.0000 - val_loss: 3410027610112.0000 - val_mean_squared_error: 3410027610112.0000\n",
            "Epoch 56/100\n",
            "\u001b[1m22/22\u001b[0m \u001b[32m━━━━━━━━━━━━━━━━━━━━\u001b[0m\u001b[37m\u001b[0m \u001b[1m0s\u001b[0m 6ms/step - loss: 2979872112640.0000 - mean_squared_error: 2979872112640.0000 - val_loss: 3405918502912.0000 - val_mean_squared_error: 3405918502912.0000\n",
            "Epoch 57/100\n",
            "\u001b[1m22/22\u001b[0m \u001b[32m━━━━━━━━━━━━━━━━━━━━\u001b[0m\u001b[37m\u001b[0m \u001b[1m0s\u001b[0m 5ms/step - loss: 2953853009920.0000 - mean_squared_error: 2953853009920.0000 - val_loss: 3497588162560.0000 - val_mean_squared_error: 3497588162560.0000\n",
            "Epoch 58/100\n",
            "\u001b[1m22/22\u001b[0m \u001b[32m━━━━━━━━━━━━━━━━━━━━\u001b[0m\u001b[37m\u001b[0m \u001b[1m0s\u001b[0m 5ms/step - loss: 3473942249472.0000 - mean_squared_error: 3473942249472.0000 - val_loss: 3495942422528.0000 - val_mean_squared_error: 3495942422528.0000\n",
            "Epoch 59/100\n",
            "\u001b[1m22/22\u001b[0m \u001b[32m━━━━━━━━━━━━━━━━━━━━\u001b[0m\u001b[37m\u001b[0m \u001b[1m0s\u001b[0m 5ms/step - loss: 3119194046464.0000 - mean_squared_error: 3119194046464.0000 - val_loss: 3522674556928.0000 - val_mean_squared_error: 3522674556928.0000\n",
            "Epoch 60/100\n",
            "\u001b[1m22/22\u001b[0m \u001b[32m━━━━━━━━━━━━━━━━━━━━\u001b[0m\u001b[37m\u001b[0m \u001b[1m0s\u001b[0m 5ms/step - loss: 3066266648576.0000 - mean_squared_error: 3066266648576.0000 - val_loss: 3425992179712.0000 - val_mean_squared_error: 3425992179712.0000\n",
            "Epoch 61/100\n",
            "\u001b[1m22/22\u001b[0m \u001b[32m━━━━━━━━━━━━━━━━━━━━\u001b[0m\u001b[37m\u001b[0m \u001b[1m0s\u001b[0m 5ms/step - loss: 3427265937408.0000 - mean_squared_error: 3427265937408.0000 - val_loss: 3423051186176.0000 - val_mean_squared_error: 3423051186176.0000\n",
            "Epoch 62/100\n",
            "\u001b[1m22/22\u001b[0m \u001b[32m━━━━━━━━━━━━━━━━━━━━\u001b[0m\u001b[37m\u001b[0m \u001b[1m0s\u001b[0m 7ms/step - loss: 2590159667200.0000 - mean_squared_error: 2590159667200.0000 - val_loss: 3647013388288.0000 - val_mean_squared_error: 3647013388288.0000\n",
            "Epoch 63/100\n",
            "\u001b[1m22/22\u001b[0m \u001b[32m━━━━━━━━━━━━━━━━━━━━\u001b[0m\u001b[37m\u001b[0m \u001b[1m0s\u001b[0m 7ms/step - loss: 3047268810752.0000 - mean_squared_error: 3047268810752.0000 - val_loss: 3593291431936.0000 - val_mean_squared_error: 3593291431936.0000\n",
            "Epoch 64/100\n",
            "\u001b[1m22/22\u001b[0m \u001b[32m━━━━━━━━━━━━━━━━━━━━\u001b[0m\u001b[37m\u001b[0m \u001b[1m0s\u001b[0m 5ms/step - loss: 2977730396160.0000 - mean_squared_error: 2977730396160.0000 - val_loss: 3405614415872.0000 - val_mean_squared_error: 3405614415872.0000\n",
            "Epoch 65/100\n",
            "\u001b[1m22/22\u001b[0m \u001b[32m━━━━━━━━━━━━━━━━━━━━\u001b[0m\u001b[37m\u001b[0m \u001b[1m0s\u001b[0m 5ms/step - loss: 2840822022144.0000 - mean_squared_error: 2840822022144.0000 - val_loss: 3416841781248.0000 - val_mean_squared_error: 3416841781248.0000\n",
            "Epoch 66/100\n",
            "\u001b[1m22/22\u001b[0m \u001b[32m━━━━━━━━━━━━━━━━━━━━\u001b[0m\u001b[37m\u001b[0m \u001b[1m0s\u001b[0m 5ms/step - loss: 3474887802880.0000 - mean_squared_error: 3474887802880.0000 - val_loss: 3414243147776.0000 - val_mean_squared_error: 3414243147776.0000\n",
            "Epoch 67/100\n",
            "\u001b[1m22/22\u001b[0m \u001b[32m━━━━━━━━━━━━━━━━━━━━\u001b[0m\u001b[37m\u001b[0m \u001b[1m0s\u001b[0m 5ms/step - loss: 2793783689216.0000 - mean_squared_error: 2793783689216.0000 - val_loss: 3404429524992.0000 - val_mean_squared_error: 3404429524992.0000\n",
            "Epoch 68/100\n",
            "\u001b[1m22/22\u001b[0m \u001b[32m━━━━━━━━━━━━━━━━━━━━\u001b[0m\u001b[37m\u001b[0m \u001b[1m0s\u001b[0m 5ms/step - loss: 2798263205888.0000 - mean_squared_error: 2798263205888.0000 - val_loss: 3630579580928.0000 - val_mean_squared_error: 3630579580928.0000\n",
            "Epoch 69/100\n",
            "\u001b[1m22/22\u001b[0m \u001b[32m━━━━━━━━━━━━━━━━━━━━\u001b[0m\u001b[37m\u001b[0m \u001b[1m0s\u001b[0m 5ms/step - loss: 3229271195648.0000 - mean_squared_error: 3229271195648.0000 - val_loss: 3406564950016.0000 - val_mean_squared_error: 3406564950016.0000\n",
            "Epoch 70/100\n",
            "\u001b[1m22/22\u001b[0m \u001b[32m━━━━━━━━━━━━━━━━━━━━\u001b[0m\u001b[37m\u001b[0m \u001b[1m0s\u001b[0m 5ms/step - loss: 2956040339456.0000 - mean_squared_error: 2956040339456.0000 - val_loss: 3409475272704.0000 - val_mean_squared_error: 3409475272704.0000\n",
            "Epoch 71/100\n",
            "\u001b[1m22/22\u001b[0m \u001b[32m━━━━━━━━━━━━━━━━━━━━\u001b[0m\u001b[37m\u001b[0m \u001b[1m0s\u001b[0m 5ms/step - loss: 2753044938752.0000 - mean_squared_error: 2753044938752.0000 - val_loss: 3548978610176.0000 - val_mean_squared_error: 3548978610176.0000\n",
            "Epoch 72/100\n",
            "\u001b[1m22/22\u001b[0m \u001b[32m━━━━━━━━━━━━━━━━━━━━\u001b[0m\u001b[37m\u001b[0m \u001b[1m0s\u001b[0m 5ms/step - loss: 3447566368768.0000 - mean_squared_error: 3447566368768.0000 - val_loss: 3401296379904.0000 - val_mean_squared_error: 3401296379904.0000\n",
            "Epoch 73/100\n",
            "\u001b[1m22/22\u001b[0m \u001b[32m━━━━━━━━━━━━━━━━━━━━\u001b[0m\u001b[37m\u001b[0m \u001b[1m0s\u001b[0m 5ms/step - loss: 3260257665024.0000 - mean_squared_error: 3260257665024.0000 - val_loss: 3409476059136.0000 - val_mean_squared_error: 3409476059136.0000\n",
            "Epoch 74/100\n",
            "\u001b[1m22/22\u001b[0m \u001b[32m━━━━━━━━━━━━━━━━━━━━\u001b[0m\u001b[37m\u001b[0m \u001b[1m0s\u001b[0m 5ms/step - loss: 3088376135680.0000 - mean_squared_error: 3088376135680.0000 - val_loss: 3428294852608.0000 - val_mean_squared_error: 3428294852608.0000\n",
            "Epoch 75/100\n",
            "\u001b[1m22/22\u001b[0m \u001b[32m━━━━━━━━━━━━━━━━━━━━\u001b[0m\u001b[37m\u001b[0m \u001b[1m0s\u001b[0m 6ms/step - loss: 3242764795904.0000 - mean_squared_error: 3242764795904.0000 - val_loss: 3419695480832.0000 - val_mean_squared_error: 3419695480832.0000\n",
            "Epoch 76/100\n",
            "\u001b[1m22/22\u001b[0m \u001b[32m━━━━━━━━━━━━━━━━━━━━\u001b[0m\u001b[37m\u001b[0m \u001b[1m0s\u001b[0m 5ms/step - loss: 2619581399040.0000 - mean_squared_error: 2619581399040.0000 - val_loss: 3427134865408.0000 - val_mean_squared_error: 3427134865408.0000\n",
            "Epoch 77/100\n",
            "\u001b[1m22/22\u001b[0m \u001b[32m━━━━━━━━━━━━━━━━━━━━\u001b[0m\u001b[37m\u001b[0m \u001b[1m0s\u001b[0m 5ms/step - loss: 2287994142720.0000 - mean_squared_error: 2287994142720.0000 - val_loss: 3546924187648.0000 - val_mean_squared_error: 3546924187648.0000\n",
            "Epoch 78/100\n",
            "\u001b[1m22/22\u001b[0m \u001b[32m━━━━━━━━━━━━━━━━━━━━\u001b[0m\u001b[37m\u001b[0m \u001b[1m0s\u001b[0m 5ms/step - loss: 3415216488448.0000 - mean_squared_error: 3415216488448.0000 - val_loss: 3423456460800.0000 - val_mean_squared_error: 3423456460800.0000\n",
            "Epoch 79/100\n",
            "\u001b[1m22/22\u001b[0m \u001b[32m━━━━━━━━━━━━━━━━━━━━\u001b[0m\u001b[37m\u001b[0m \u001b[1m0s\u001b[0m 7ms/step - loss: 2882113896448.0000 - mean_squared_error: 2882113896448.0000 - val_loss: 3418713489408.0000 - val_mean_squared_error: 3418713489408.0000\n",
            "Epoch 80/100\n",
            "\u001b[1m22/22\u001b[0m \u001b[32m━━━━━━━━━━━━━━━━━━━━\u001b[0m\u001b[37m\u001b[0m \u001b[1m0s\u001b[0m 6ms/step - loss: 2923399479296.0000 - mean_squared_error: 2923399479296.0000 - val_loss: 3522966323200.0000 - val_mean_squared_error: 3522966323200.0000\n",
            "Epoch 81/100\n",
            "\u001b[1m22/22\u001b[0m \u001b[32m━━━━━━━━━━━━━━━━━━━━\u001b[0m\u001b[37m\u001b[0m \u001b[1m0s\u001b[0m 5ms/step - loss: 3475369623552.0000 - mean_squared_error: 3475369623552.0000 - val_loss: 3418973274112.0000 - val_mean_squared_error: 3418973274112.0000\n",
            "Epoch 82/100\n",
            "\u001b[1m22/22\u001b[0m \u001b[32m━━━━━━━━━━━━━━━━━━━━\u001b[0m\u001b[37m\u001b[0m \u001b[1m0s\u001b[0m 5ms/step - loss: 2675509559296.0000 - mean_squared_error: 2675509559296.0000 - val_loss: 3427744612352.0000 - val_mean_squared_error: 3427744612352.0000\n",
            "Epoch 83/100\n",
            "\u001b[1m22/22\u001b[0m \u001b[32m━━━━━━━━━━━━━━━━━━━━\u001b[0m\u001b[37m\u001b[0m \u001b[1m0s\u001b[0m 5ms/step - loss: 3107411722240.0000 - mean_squared_error: 3107411722240.0000 - val_loss: 3496925462528.0000 - val_mean_squared_error: 3496925462528.0000\n",
            "Epoch 84/100\n",
            "\u001b[1m22/22\u001b[0m \u001b[32m━━━━━━━━━━━━━━━━━━━━\u001b[0m\u001b[37m\u001b[0m \u001b[1m0s\u001b[0m 7ms/step - loss: 2768720363520.0000 - mean_squared_error: 2768720363520.0000 - val_loss: 3416861442048.0000 - val_mean_squared_error: 3416861442048.0000\n",
            "Epoch 85/100\n",
            "\u001b[1m22/22\u001b[0m \u001b[32m━━━━━━━━━━━━━━━━━━━━\u001b[0m\u001b[37m\u001b[0m \u001b[1m0s\u001b[0m 6ms/step - loss: 2912133578752.0000 - mean_squared_error: 2912133578752.0000 - val_loss: 3477359034368.0000 - val_mean_squared_error: 3477359034368.0000\n",
            "Epoch 86/100\n",
            "\u001b[1m22/22\u001b[0m \u001b[32m━━━━━━━━━━━━━━━━━━━━\u001b[0m\u001b[37m\u001b[0m \u001b[1m0s\u001b[0m 6ms/step - loss: 3519920472064.0000 - mean_squared_error: 3519920472064.0000 - val_loss: 3427572383744.0000 - val_mean_squared_error: 3427572383744.0000\n",
            "Epoch 87/100\n",
            "\u001b[1m22/22\u001b[0m \u001b[32m━━━━━━━━━━━━━━━━━━━━\u001b[0m\u001b[37m\u001b[0m \u001b[1m0s\u001b[0m 7ms/step - loss: 2874030948352.0000 - mean_squared_error: 2874030948352.0000 - val_loss: 3590243745792.0000 - val_mean_squared_error: 3590243745792.0000\n",
            "Epoch 88/100\n",
            "\u001b[1m22/22\u001b[0m \u001b[32m━━━━━━━━━━━━━━━━━━━━\u001b[0m\u001b[37m\u001b[0m \u001b[1m0s\u001b[0m 7ms/step - loss: 2788855906304.0000 - mean_squared_error: 2788855906304.0000 - val_loss: 3424786055168.0000 - val_mean_squared_error: 3424786055168.0000\n",
            "Epoch 89/100\n",
            "\u001b[1m22/22\u001b[0m \u001b[32m━━━━━━━━━━━━━━━━━━━━\u001b[0m\u001b[37m\u001b[0m \u001b[1m0s\u001b[0m 5ms/step - loss: 2945809907712.0000 - mean_squared_error: 2945809907712.0000 - val_loss: 3411380273152.0000 - val_mean_squared_error: 3411380273152.0000\n",
            "Epoch 90/100\n",
            "\u001b[1m22/22\u001b[0m \u001b[32m━━━━━━━━━━━━━━━━━━━━\u001b[0m\u001b[37m\u001b[0m \u001b[1m0s\u001b[0m 5ms/step - loss: 2867866894336.0000 - mean_squared_error: 2867866894336.0000 - val_loss: 3401538863104.0000 - val_mean_squared_error: 3401538863104.0000\n",
            "Epoch 91/100\n",
            "\u001b[1m22/22\u001b[0m \u001b[32m━━━━━━━━━━━━━━━━━━━━\u001b[0m\u001b[37m\u001b[0m \u001b[1m0s\u001b[0m 7ms/step - loss: 3026543443968.0000 - mean_squared_error: 3026543443968.0000 - val_loss: 3435967021056.0000 - val_mean_squared_error: 3435967021056.0000\n",
            "Epoch 92/100\n",
            "\u001b[1m22/22\u001b[0m \u001b[32m━━━━━━━━━━━━━━━━━━━━\u001b[0m\u001b[37m\u001b[0m \u001b[1m0s\u001b[0m 5ms/step - loss: 3039878709248.0000 - mean_squared_error: 3039878709248.0000 - val_loss: 3442548670464.0000 - val_mean_squared_error: 3442548670464.0000\n",
            "Epoch 93/100\n",
            "\u001b[1m22/22\u001b[0m \u001b[32m━━━━━━━━━━━━━━━━━━━━\u001b[0m\u001b[37m\u001b[0m \u001b[1m0s\u001b[0m 7ms/step - loss: 2816992870400.0000 - mean_squared_error: 2816992870400.0000 - val_loss: 3402260283392.0000 - val_mean_squared_error: 3402260283392.0000\n",
            "Epoch 94/100\n",
            "\u001b[1m22/22\u001b[0m \u001b[32m━━━━━━━━━━━━━━━━━━━━\u001b[0m\u001b[37m\u001b[0m \u001b[1m0s\u001b[0m 5ms/step - loss: 2628840325120.0000 - mean_squared_error: 2628840325120.0000 - val_loss: 3406701002752.0000 - val_mean_squared_error: 3406701002752.0000\n",
            "Epoch 95/100\n",
            "\u001b[1m22/22\u001b[0m \u001b[32m━━━━━━━━━━━━━━━━━━━━\u001b[0m\u001b[37m\u001b[0m \u001b[1m0s\u001b[0m 6ms/step - loss: 2998056779776.0000 - mean_squared_error: 2998056779776.0000 - val_loss: 3437587595264.0000 - val_mean_squared_error: 3437587595264.0000\n",
            "Epoch 96/100\n",
            "\u001b[1m22/22\u001b[0m \u001b[32m━━━━━━━━━━━━━━━━━━━━\u001b[0m\u001b[37m\u001b[0m \u001b[1m0s\u001b[0m 6ms/step - loss: 2950291521536.0000 - mean_squared_error: 2950291521536.0000 - val_loss: 3536091873280.0000 - val_mean_squared_error: 3536091873280.0000\n",
            "Epoch 97/100\n",
            "\u001b[1m22/22\u001b[0m \u001b[32m━━━━━━━━━━━━━━━━━━━━\u001b[0m\u001b[37m\u001b[0m \u001b[1m0s\u001b[0m 5ms/step - loss: 3152906027008.0000 - mean_squared_error: 3152906027008.0000 - val_loss: 3495479476224.0000 - val_mean_squared_error: 3495479476224.0000\n",
            "Epoch 98/100\n",
            "\u001b[1m22/22\u001b[0m \u001b[32m━━━━━━━━━━━━━━━━━━━━\u001b[0m\u001b[37m\u001b[0m \u001b[1m0s\u001b[0m 5ms/step - loss: 3530448437248.0000 - mean_squared_error: 3530448437248.0000 - val_loss: 3427189129216.0000 - val_mean_squared_error: 3427189129216.0000\n",
            "Epoch 99/100\n",
            "\u001b[1m22/22\u001b[0m \u001b[32m━━━━━━━━━━━━━━━━━━━━\u001b[0m\u001b[37m\u001b[0m \u001b[1m0s\u001b[0m 7ms/step - loss: 2914966044672.0000 - mean_squared_error: 2914966044672.0000 - val_loss: 3406132412416.0000 - val_mean_squared_error: 3406132412416.0000\n",
            "Epoch 100/100\n",
            "\u001b[1m22/22\u001b[0m \u001b[32m━━━━━━━━━━━━━━━━━━━━\u001b[0m\u001b[37m\u001b[0m \u001b[1m0s\u001b[0m 5ms/step - loss: 2968670961664.0000 - mean_squared_error: 2968670961664.0000 - val_loss: 3418405732352.0000 - val_mean_squared_error: 3418405732352.0000\n"
          ]
        },
        {
          "output_type": "stream",
          "name": "stderr",
          "text": [
            "WARNING:absl:You are saving your model as an HDF5 file via `model.save()` or `keras.saving.save_model(model)`. This file format is considered legacy. We recommend using instead the native Keras format, e.g. `model.save('my_model.keras')` or `keras.saving.save_model(model, 'my_model.keras')`. \n"
          ]
        }
      ],
      "source": [
        "import pandas as pd\n",
        "import numpy as np\n",
        "from sklearn.model_selection import train_test_split\n",
        "from sklearn.preprocessing import StandardScaler\n",
        "from keras.models import Sequential\n",
        "from keras.layers import Dense\n",
        "from keras.optimizers import SGD\n",
        "\n",
        "# Load the dataset\n",
        "data = pd.read_csv('Housing.csv')\n",
        "\n",
        "# Convert categorical variables to numerical\n",
        "data['mainroad'] = data['mainroad'].map({'yes': 1, 'no': 0})\n",
        "data['guestroom'] = data['guestroom'].map({'yes': 1, 'no': 0})\n",
        "data['basement'] = data['basement'].map({'yes': 1, 'no': 0})\n",
        "data['hotwaterheating'] = data['hotwaterheating'].map({'yes': 1, 'no': 0})\n",
        "data['airconditioning'] = data['airconditioning'].map({'yes': 1, 'no': 0})\n",
        "data['prefarea'] = data['prefarea'].map({'yes': 1, 'no': 0})\n",
        "data['furnishingstatus'] = data['furnishingstatus'].map({'furnished': 2, 'semi-furnished': 1, 'unfurnished': 0})\n",
        "\n",
        "# Separate features and target\n",
        "X = data.drop('price', axis=1)\n",
        "y = data['price']\n",
        "\n",
        "# Split the data into training and testing sets\n",
        "X_train, X_test, y_train, y_test = train_test_split(X, y, test_size=0.2, random_state=42)\n",
        "\n",
        "# Standardize the features\n",
        "scaler = StandardScaler()\n",
        "X_train = scaler.fit_transform(X_train)\n",
        "X_test = scaler.transform(X_test)\n",
        "\n",
        "# Define the ANN model\n",
        "model = Sequential()\n",
        "model.add(Dense(15, input_dim=X_train.shape[1], activation='tanh'))\n",
        "model.add(Dense(20, activation='tanh'))\n",
        "model.add(Dense(15, activation='tanh'))\n",
        "model.add(Dense(1, activation='linear'))\n",
        "\n",
        "# Compile the model\n",
        "optimizer = SGD(learning_rate=0.01)\n",
        "model.compile(loss='mean_squared_error', optimizer=optimizer, metrics=['mean_squared_error'])\n",
        "\n",
        "# Train the model\n",
        "history = model.fit(X_train, y_train, epochs=100, batch_size=16, validation_split=0.2)\n",
        "\n",
        "# Save the model\n",
        "model.save('housing_model.h5')"
      ]
    },
    {
      "cell_type": "markdown",
      "source": [
        "# **Question-2**"
      ],
      "metadata": {
        "id": "m31OfccCMRiO"
      }
    },
    {
      "cell_type": "code",
      "source": [
        "# Evaluate the model on training data\n",
        "train_loss, train_mse = model.evaluate(X_train, y_train, verbose=0)\n",
        "print(f\"Training MSE: {train_mse}\")\n",
        "\n",
        "# Evaluate the model on testing data\n",
        "test_loss, test_mse = model.evaluate(X_test, y_test, verbose=0)\n",
        "print(f\"Testing MSE: {test_mse}\")"
      ],
      "metadata": {
        "colab": {
          "base_uri": "https://localhost:8080/"
        },
        "id": "ADJ7GI32MWWQ",
        "outputId": "6e83b034-1950-482d-a9df-64e2f1755acf"
      },
      "execution_count": null,
      "outputs": [
        {
          "output_type": "stream",
          "name": "stdout",
          "text": [
            "Training MSE: 3085759152128.0\n",
            "Testing MSE: 5118256742400.0\n"
          ]
        }
      ]
    },
    {
      "cell_type": "markdown",
      "source": [
        "# **Question-3**"
      ],
      "metadata": {
        "id": "qrhbmKO-MbVN"
      }
    },
    {
      "cell_type": "code",
      "source": [
        "from keras.models import load_model\n",
        "\n",
        "# Load the saved model\n",
        "loaded_model = load_model('housing_model.h5')\n",
        "\n",
        "# Predict housing prices using the loaded model\n",
        "predictions = loaded_model.predict(X_test)\n",
        "\n",
        "# Display some predictions\n",
        "for i in range(5):\n",
        "    print(f\"Predicted: {predictions[i][0]}, Actual: {y_test.iloc[i]}\")"
      ],
      "metadata": {
        "colab": {
          "base_uri": "https://localhost:8080/"
        },
        "id": "pkHNmYL5MftH",
        "outputId": "a0451427-7418-4b33-aa47-6943124d850b"
      },
      "execution_count": null,
      "outputs": [
        {
          "output_type": "stream",
          "name": "stderr",
          "text": [
            "WARNING:absl:Compiled the loaded model, but the compiled metrics have yet to be built. `model.compile_metrics` will be empty until you train or evaluate the model.\n"
          ]
        },
        {
          "output_type": "stream",
          "name": "stdout",
          "text": [
            "\u001b[1m4/4\u001b[0m \u001b[32m━━━━━━━━━━━━━━━━━━━━\u001b[0m\u001b[37m\u001b[0m \u001b[1m0s\u001b[0m 20ms/step\n",
            "Predicted: 4755174.5, Actual: 4060000\n",
            "Predicted: 4755174.5, Actual: 6650000\n",
            "Predicted: 4755174.5, Actual: 3710000\n",
            "Predicted: 4755174.5, Actual: 6440000\n",
            "Predicted: 4755174.5, Actual: 2800000\n"
          ]
        }
      ]
    }
  ]
}